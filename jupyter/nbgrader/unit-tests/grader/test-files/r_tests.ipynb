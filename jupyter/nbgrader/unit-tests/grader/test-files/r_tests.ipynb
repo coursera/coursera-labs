{
 "cells": [
  {
   "cell_type": "code",
   "execution_count": null,
   "metadata": {
    "deletable": false,
    "editable": false,
    "nbgrader": {
     "cell_type": "code",
     "checksum": "a7fef469ff2c1a8f952ddd4aed27e36c",
     "grade": false,
     "grade_id": "cell-3b4c8c070dc5bab9",
     "locked": true,
     "schema_version": 3,
     "solution": false,
     "task": false
    }
   },
   "outputs": [],
   "source": [
    "library(testthat)"
   ]
  },
  {
   "cell_type": "code",
   "execution_count": null,
   "metadata": {
    "deletable": false,
    "nbgrader": {
     "cell_type": "code",
     "checksum": "702a71fc4371bc050db90c88a619e47c",
     "grade": false,
     "grade_id": "cell-bf599eaf054ef08e",
     "locked": false,
     "schema_version": 3,
     "solution": true,
     "task": false
    }
   },
   "outputs": [],
   "source": [
    "# Write a function that returns the summation of any positive integer, or returns 0 if not positive.\n",
    "sum <- function(n) {\n",
    "    val <- 0\n",
    "    if(n <= 0) {\n",
    "        return(val)\n",
    "    }\n",
    "    for (i in 1:n) {\n",
    "        val <- val + i\n",
    "    }\n",
    "    val\n",
    "}"
   ]
  },
  {
   "cell_type": "code",
   "execution_count": null,
   "metadata": {
    "deletable": false,
    "editable": false,
    "nbgrader": {
     "cell_type": "code",
     "checksum": "c2a9a27037a13d1b4c15a950a8c29311",
     "grade": true,
     "grade_id": "shown-pass",
     "locked": true,
     "points": 1,
     "schema_version": 3,
     "solution": false,
     "task": false
    }
   },
   "outputs": [],
   "source": [
    "# Hidden Tests: False, Expected Number of Hints: 0, Expected Result: pass\n",
    "test_that(\"sum function works for normal cases\", {\n",
    "    expect_equal(sum(5), 15)\n",
    "})"
   ]
  },
  {
   "cell_type": "code",
   "execution_count": null,
   "metadata": {
    "deletable": false,
    "editable": false,
    "nbgrader": {
     "cell_type": "code",
     "checksum": "e2db3f547ae1374a2c4d3e51f42e9332",
     "grade": true,
     "grade_id": "shown-fail",
     "locked": true,
     "points": 1,
     "schema_version": 3,
     "solution": false,
     "task": false
    }
   },
   "outputs": [],
   "source": [
    "# Hidden Tests: False, Expected Number of Hints: 2, Expected Result: fail\n",
    "#Hint: Hint 1\n",
    "test_that(\"sum function returns 0 for non-positive numbers\", {\n",
    "    #Hint: hint 2\n",
    "    expect_equal(sum(0), 2)\n",
    "})"
   ]
  },
  {
   "cell_type": "code",
   "execution_count": null,
   "metadata": {
    "deletable": false,
    "editable": false,
    "nbgrader": {
     "cell_type": "code",
     "checksum": "f5b73865f2d37cf3f4ac58394e99c4a9",
     "grade": true,
     "grade_id": "shown-error",
     "locked": true,
     "points": 1,
     "schema_version": 3,
     "solution": false,
     "task": false
    }
   },
   "outputs": [],
   "source": [
    "# Hidden Tests: False, Expected Number of Hints: 1, Expected Result: fail\n",
    "stopifnot(1+'hello' == 2)#Hint: Hint 1"
   ]
  },
  {
   "cell_type": "code",
   "execution_count": null,
   "metadata": {
    "deletable": false,
    "editable": false,
    "nbgrader": {
     "cell_type": "code",
     "checksum": "b65509fa754c3a6e6dd4996ceb0dcf0a",
     "grade": true,
     "grade_id": "hidden-pass",
     "locked": true,
     "points": 1,
     "schema_version": 3,
     "solution": false,
     "task": false
    }
   },
   "outputs": [],
   "source": [
    "# Hidden Tests: True, Expected Number of Hints: 0, Expected Result: pass"
   ]
  },
  {
   "cell_type": "code",
   "execution_count": null,
   "metadata": {
    "deletable": false,
    "editable": false,
    "nbgrader": {
     "cell_type": "code",
     "checksum": "ae607df8523e28265884267144484586",
     "grade": true,
     "grade_id": "hidden-fail",
     "locked": true,
     "points": 1,
     "schema_version": 3,
     "solution": false,
     "task": false
    }
   },
   "outputs": [],
   "source": [
    "# Hidden Tests: True, Expected Number of Hints: 4, Expected Result: fail\n",
    "#Hint: hint 1\n",
    "#Hint: hint 4"
   ]
  },
  {
   "cell_type": "code",
   "execution_count": null,
   "metadata": {
    "deletable": false,
    "editable": false,
    "nbgrader": {
     "cell_type": "code",
     "checksum": "c179383227aad7d4e79dcda32a816f13",
     "grade": true,
     "grade_id": "hidden-error",
     "locked": true,
     "points": 2,
     "schema_version": 3,
     "solution": false,
     "task": false
    }
   },
   "outputs": [],
   "source": [
    "# Hidden Tests: True, Expected Number of Hints: 1, Expected Result: fail"
   ]
  },
  {
   "cell_type": "code",
   "execution_count": null,
   "metadata": {
    "deletable": false,
    "editable": false,
    "nbgrader": {
     "cell_type": "code",
     "checksum": "d759b68e7b771f38728a8013a1b6cf68",
     "grade": true,
     "grade_id": "shown-fail-hidden-pass",
     "locked": true,
     "points": 2,
     "schema_version": 3,
     "solution": false,
     "task": false
    }
   },
   "outputs": [],
   "source": [
    "# Hidden Tests: True, Expected Number of Hints: 0, Expected Result: fail\n",
    "test_that(\"sum function works for normal cases\", {\n",
    "    expect_equal(sum(2), 6)\n",
    "})\n"
   ]
  },
  {
   "cell_type": "code",
   "execution_count": null,
   "metadata": {
    "deletable": false,
    "editable": false,
    "nbgrader": {
     "cell_type": "code",
     "checksum": "46d130b4d795fc6a99f1048c904d5fda",
     "grade": true,
     "grade_id": "shown-pass-hidden-fail",
     "locked": true,
     "points": 2,
     "schema_version": 3,
     "solution": false,
     "task": false
    }
   },
   "outputs": [],
   "source": [
    "# Hidden Tests: True, Expected Number of Hints: 2, Expected Result: fail\n",
    "test_that(\"sum function returns 0 for non-positive numbers\", {\n",
    "    expect_equal(sum(5),15)\n",
    "    #Hint: Hint 1\n",
    "})"
   ]
  },
  {
   "cell_type": "code",
   "execution_count": null,
   "metadata": {
    "deletable": false,
    "editable": false,
    "nbgrader": {
     "cell_type": "code",
     "checksum": "a0801b165684832c6b499a17851cff37",
     "grade": true,
     "grade_id": "hidden-pass-shown-fail",
     "locked": true,
     "points": 2,
     "schema_version": 3,
     "solution": false,
     "task": false
    }
   },
   "outputs": [],
   "source": [
    "# Hidden Tests: True, Expected Number of Hints: 0, Expected Result: fail\n",
    "test_that(\"sum function works for normal cases\", {\n",
    "    expect_equal(sum(2), 6)\n",
    "})"
   ]
  },
  {
   "cell_type": "code",
   "execution_count": null,
   "metadata": {
    "deletable": false,
    "editable": false,
    "nbgrader": {
     "cell_type": "code",
     "checksum": "084f0e982ea7f24744f35b5d1e42ee53",
     "grade": true,
     "grade_id": "hidden-fail-shown-pass",
     "locked": true,
     "points": 2,
     "schema_version": 3,
     "solution": false,
     "task": false
    }
   },
   "outputs": [],
   "source": [
    "# Hidden Tests: True, Expected Number of Hints: 1, Expected Result: fail\n",
    "stopifnot(2+2==4)#Hint: Hint 1"
   ]
  },
  {
   "cell_type": "code",
   "execution_count": null,
   "metadata": {
    "deletable": false,
    "editable": false,
    "nbgrader": {
     "cell_type": "code",
     "checksum": "d147c711fc35ecd4a132f333a18f162b",
     "grade": true,
     "grade_id": "shown-fail-hidden-fail",
     "locked": true,
     "points": 2,
     "schema_version": 3,
     "solution": false,
     "task": false
    }
   },
   "outputs": [],
   "source": [
    "# Hidden Tests: True, Expected Number of Hints: 2, Expected Result: fail\n",
    "stopifnot(2+3==4)"
   ]
  },
  {
   "cell_type": "code",
   "execution_count": null,
   "metadata": {},
   "outputs": [],
   "source": [
    "system(\"cat r_tests.ipynb\", intern = TRUE)"
   ]
  }
 ],
 "metadata": {
  "kernelspec": {
   "display_name": "R",
   "language": "R",
   "name": "ir"
  },
  "language_info": {
   "codemirror_mode": "r",
   "file_extension": ".r",
   "mimetype": "text/x-r-source",
   "name": "R",
   "pygments_lexer": "r",
   "version": "3.6.3"
  }
 },
 "nbformat": 4,
 "nbformat_minor": 4
}
