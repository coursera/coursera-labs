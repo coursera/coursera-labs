{
 "cells": [
  {
   "cell_type": "markdown",
   "metadata": {
    "deletable": false,
    "editable": false,
    "nbgrader": {
     "cell_type": "markdown",
     "checksum": "cb9ce9d881feaca98a5231de0627a98d",
     "grade": false,
     "grade_id": "add-intro",
     "locked": true,
     "schema_version": 3,
     "solution": false,
     "task": false
    }
   },
   "source": [
    "# Add function\n",
    "\n",
    "Create a function that adds two whole numbers, ValueError should be raised on invalid params"
   ]
  },
  {
   "cell_type": "code",
   "execution_count": null,
   "metadata": {
    "deletable": false,
    "nbgrader": {
     "cell_type": "code",
     "checksum": "bd687afbec93c25abf1b53df66affac4",
     "grade": false,
     "grade_id": "answer-cell",
     "locked": false,
     "schema_version": 3,
     "solution": true,
     "task": false
    }
   },
   "outputs": [],
   "source": [
    "def add(a, b):\n",
    "    # your code here\n",
    "    \n",
    "    raise NotImplemented"
   ]
  },
  {
   "cell_type": "code",
   "execution_count": null,
   "metadata": {},
   "outputs": [],
   "source": [
    "def throwError():\n",
    "    raise ValueError"
   ]
  },
  {
   "cell_type": "code",
   "execution_count": null,
   "metadata": {
    "deletable": false,
    "editable": false,
    "nbgrader": {
     "cell_type": "code",
     "checksum": "2704f238ab966eb7600b87cd68006614",
     "grade": true,
     "grade_id": "shown-pass",
     "locked": true,
     "points": 1,
     "schema_version": 3,
     "solution": false,
     "task": false
    }
   },
   "outputs": [],
   "source": [
    "# Hidden Tests: False, Expected Number of Hints: 0, Expected Result: pass\n",
    "assert True"
   ]
  },
  {
   "cell_type": "code",
   "execution_count": null,
   "metadata": {
    "deletable": false,
    "editable": false,
    "nbgrader": {
     "cell_type": "code",
     "checksum": "7340b1324637ccb9180d9e2a5cd6712e",
     "grade": true,
     "grade_id": "shown-fail",
     "locked": true,
     "points": 1,
     "schema_version": 3,
     "solution": false,
     "task": false
    }
   },
   "outputs": [],
   "source": [
    "# Hidden Tests: False, Expected Number of Hints: 3, Expected Result: fail\n",
    "assert False\n",
    "# Hint: test hint for R\n",
    " #Hint: Weird spacing\n",
    "    #Hint: Tab before comment"
   ]
  },
  {
   "cell_type": "code",
   "execution_count": null,
   "metadata": {
    "deletable": false,
    "editable": false,
    "nbgrader": {
     "cell_type": "code",
     "checksum": "96b29a89613883c534c2cd942093d633",
     "grade": true,
     "grade_id": "shown-error",
     "locked": true,
     "points": 1,
     "schema_version": 3,
     "solution": false,
     "task": false
    }
   },
   "outputs": [],
   "source": [
    "# Hidden Tests: False, Expected Number of Hints: 1, Expected Result: fail\n",
    "assert throwError()\n",
    "# Hint: this test should throw an error"
   ]
  },
  {
   "cell_type": "code",
   "execution_count": null,
   "metadata": {
    "deletable": false,
    "editable": false,
    "nbgrader": {
     "cell_type": "code",
     "checksum": "50de219c003594132cac6c20e539ef24",
     "grade": true,
     "grade_id": "hidden-pass",
     "locked": true,
     "points": 1,
     "schema_version": 3,
     "solution": false,
     "task": false
    }
   },
   "outputs": [],
   "source": [
    "# Hidden Tests: True, Expected Number of Hints: 0, Expected Result: pass\n"
   ]
  },
  {
   "cell_type": "code",
   "execution_count": null,
   "metadata": {
    "deletable": false,
    "editable": false,
    "nbgrader": {
     "cell_type": "code",
     "checksum": "3360abfe8c0c0e1cafa77cb80fe8a787",
     "grade": true,
     "grade_id": "hidden-fail",
     "locked": true,
     "points": 1,
     "schema_version": 3,
     "solution": false,
     "task": false
    }
   },
   "outputs": [],
   "source": [
    "# Hidden Tests: True, Expected Number of Hints: 2, Expected Result: fail\n",
    "#Hint: hint 2"
   ]
  },
  {
   "cell_type": "code",
   "execution_count": null,
   "metadata": {
    "deletable": false,
    "editable": false,
    "nbgrader": {
     "cell_type": "code",
     "checksum": "dbfa740f628e48a5c8ed405fb81ebc9e",
     "grade": true,
     "grade_id": "hidden-error",
     "locked": true,
     "points": 1,
     "schema_version": 3,
     "solution": false,
     "task": false
    }
   },
   "outputs": [],
   "source": [
    "# Hidden Tests: True, Expected Number of Hints: 0, Expected Result: fail"
   ]
  },
  {
   "cell_type": "code",
   "execution_count": null,
   "metadata": {
    "deletable": false,
    "editable": false,
    "nbgrader": {
     "cell_type": "code",
     "checksum": "5bdf0dc01808b81288bdd9cb74253bc8",
     "grade": true,
     "grade_id": "shown-fail-hidden-pass",
     "locked": true,
     "points": 2,
     "schema_version": 3,
     "solution": false,
     "task": false
    }
   },
   "outputs": [],
   "source": [
    "# Hidden Tests: True, Expected Number of Hints: 1, Expected Result: fail\n",
    "assert False"
   ]
  },
  {
   "cell_type": "code",
   "execution_count": null,
   "metadata": {
    "deletable": false,
    "editable": false,
    "nbgrader": {
     "cell_type": "code",
     "checksum": "b6ad0de8a9c9387824ae473de00a24f1",
     "grade": true,
     "grade_id": "shown-pass-hidden-fail",
     "locked": true,
     "points": 2,
     "schema_version": 3,
     "solution": false,
     "task": false
    }
   },
   "outputs": [],
   "source": [
    "# Hidden Tests: True, Expected Number of Hints: 3, Expected Result: fail\n",
    "assert True\n",
    "#Hint: hint 1\n",
    "# Hint: hint2\n",
    "#  Hint: hint 3"
   ]
  },
  {
   "cell_type": "code",
   "execution_count": null,
   "metadata": {
    "deletable": false,
    "editable": false,
    "nbgrader": {
     "cell_type": "code",
     "checksum": "d738cca7bf8f3800f663b83e6ea7dca0",
     "grade": true,
     "grade_id": "hidden-pass-shown-fail",
     "locked": true,
     "points": 2,
     "schema_version": 3,
     "solution": false,
     "task": false
    }
   },
   "outputs": [],
   "source": [
    "# Hidden Tests: True, Expected Number of Hints: 0, Expected Result: fail\n",
    "assert False"
   ]
  },
  {
   "cell_type": "code",
   "execution_count": null,
   "metadata": {
    "deletable": false,
    "editable": false,
    "nbgrader": {
     "cell_type": "code",
     "checksum": "5c2fd0a8d2ac841e10338a959af462b6",
     "grade": true,
     "grade_id": "hidden-fail-shown-pass",
     "locked": true,
     "points": 2,
     "schema_version": 3,
     "solution": false,
     "task": false
    }
   },
   "outputs": [],
   "source": [
    "# Hidden Tests: True, Expected Number of Hints: 0, Expected Result: fail\n",
    "assert True"
   ]
  },
  {
   "cell_type": "code",
   "execution_count": null,
   "metadata": {
    "deletable": false,
    "editable": false,
    "nbgrader": {
     "cell_type": "code",
     "checksum": "03b6a8166324a709348f5ba964895fcf",
     "grade": true,
     "grade_id": "shown-fail-hidden-fail",
     "locked": true,
     "points": 2,
     "schema_version": 3,
     "solution": false,
     "task": false
    }
   },
   "outputs": [],
   "source": [
    "# Hidden Tests: True, Expected Number of Hints: 0, Expected Result: fail\n",
    "assert False"
   ]
  },
  {
   "cell_type": "code",
   "execution_count": null,
   "metadata": {},
   "outputs": [],
   "source": [
    "!cat *.ipynb"
   ]
  }
 ],
 "metadata": {
  "kernelspec": {
   "display_name": "Python 3",
   "language": "python",
   "name": "python3"
  },
  "language_info": {
   "codemirror_mode": {
    "name": "ipython",
    "version": 3
   },
   "file_extension": ".py",
   "mimetype": "text/x-python",
   "name": "python",
   "nbconvert_exporter": "python",
   "pygments_lexer": "ipython3",
   "version": "3.7.6"
  }
 },
 "nbformat": 4,
 "nbformat_minor": 4
}
