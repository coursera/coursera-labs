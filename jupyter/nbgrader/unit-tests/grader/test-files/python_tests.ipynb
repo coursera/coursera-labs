{
 "cells": [
  {
   "cell_type": "markdown",
   "metadata": {
    "nbgrader": {
     "grade": false,
     "grade_id": "add-intro",
     "locked": true,
     "schema_version": 3,
     "solution": false,
     "task": false
    }
   },
   "source": [
    "# Add function\n",
    "\n",
    "Create a function that adds two whole numbers, ValueError should be raised on invalid params"
   ]
  },
  {
   "cell_type": "code",
   "execution_count": null,
   "metadata": {
    "nbgrader": {
     "grade": false,
     "grade_id": "answer-cell",
     "locked": false,
     "schema_version": 3,
     "solution": true,
     "task": false
    }
   },
   "outputs": [],
   "source": [
    "def add(a, b):\n",
    "    ### BEGIN SOLUTION CODE\n",
    "    if not isinstance(a, int) or not isinstance(b, int):\n",
    "        raise ValueError\n",
    "    return a + b\n",
    "    ### END SOLUTION CODE\n",
    "    raise NotImplemented"
   ]
  },
  {
   "cell_type": "code",
   "execution_count": null,
   "metadata": {},
   "outputs": [],
   "source": [
    "def throwError():\n",
    "    raise ValueError"
   ]
  },
  {
   "cell_type": "code",
   "execution_count": null,
   "metadata": {
    "nbgrader": {
     "grade": true,
     "grade_id": "shown-pass",
     "locked": true,
     "points": 1,
     "schema_version": 3,
     "solution": false,
     "task": false
    }
   },
   "outputs": [],
   "source": [
    "# Hidden Tests: False, Expected Number of Hints: 0, Expected Result: pass\n",
    "assert True, \"Sample hint message 1\""
   ]
  },
  {
   "cell_type": "code",
   "execution_count": null,
   "metadata": {
    "nbgrader": {
     "grade": true,
     "grade_id": "shown-fail",
     "locked": true,
     "points": 1,
     "schema_version": 3,
     "solution": false,
     "task": false
    }
   },
   "outputs": [],
   "source": [
    "# Hidden Tests: False, Expected Number of Hints: 1, Expected Result: fail\n",
    "assert 0 > 1, \"Sample hint message 2\""
   ]
  },
  {
   "cell_type": "code",
   "execution_count": null,
   "metadata": {
    "nbgrader": {
     "grade": true,
     "grade_id": "shown-error",
     "locked": true,
     "points": 1,
     "schema_version": 3,
     "solution": false,
     "task": false
    }
   },
   "outputs": [],
   "source": [
    "# Hidden Tests: False, Expected Number of Hints: 1, Expected Result: fail\n",
    "assert throwError(), \"Error thrown\""
   ]
  },
  {
   "cell_type": "code",
   "execution_count": null,
   "metadata": {
    "nbgrader": {
     "grade": true,
     "grade_id": "hidden-pass",
     "locked": true,
     "points": 1,
     "schema_version": 3,
     "solution": false,
     "task": false
    }
   },
   "outputs": [],
   "source": [
    "# Hidden Tests: True, Expected Number of Hints: 0, Expected Result: pass\n",
    "\n",
    "### BEGIN HIDDEN TESTS\n",
    "assert True, \"Sample hint message 3\"\n",
    "### END HIDDEN TESTS"
   ]
  },
  {
   "cell_type": "code",
   "execution_count": null,
   "metadata": {
    "nbgrader": {
     "grade": true,
     "grade_id": "hidden-fail",
     "locked": true,
     "points": 1,
     "schema_version": 3,
     "solution": false,
     "task": false
    }
   },
   "outputs": [],
   "source": [
    "# Hidden Tests: True, Expected Number of Hints: 1, Expected Result: fail\n",
    "### BEGIN HIDDEN TESTS\n",
    "add(4, \"string\")\n",
    "assert \"False\" == \"True\", \"Sample hint message 4\"\n",
    "### END HIDDEN TESTS"
   ]
  },
  {
   "cell_type": "code",
   "execution_count": null,
   "metadata": {
    "nbgrader": {
     "grade": true,
     "grade_id": "hidden-error",
     "locked": true,
     "points": 1,
     "schema_version": 3,
     "solution": false,
     "task": false
    }
   },
   "outputs": [],
   "source": [
    "# Hidden Tests: True, Expected Number of Hints: 0, Expected Result: fail\n",
    "add(\"string\", 4)\n",
    "### BEGIN HIDDEN TESTS\n",
    "assert throwError()\n",
    "### END HIDDEN TESTS"
   ]
  },
  {
   "cell_type": "code",
   "execution_count": null,
   "metadata": {
    "nbgrader": {
     "grade": true,
     "grade_id": "shown-fail-hidden-pass",
     "locked": true,
     "points": 2,
     "schema_version": 3,
     "solution": false,
     "task": false
    }
   },
   "outputs": [],
   "source": [
    "# Hidden Tests: True, Expected Number of Hints: 2, Expected Result: fail\n",
    "assert len(\"string\") == 10, \"Sample hint message 5\"\n",
    "### BEGIN HIDDEN TESTS\n",
    "assert True, \"Sample hint message 6\"\n",
    "### END HIDDEN TESTS"
   ]
  },
  {
   "cell_type": "code",
   "execution_count": null,
   "metadata": {
    "nbgrader": {
     "grade": true,
     "grade_id": "shown-pass-hidden-fail",
     "locked": true,
     "points": 2,
     "schema_version": 3,
     "solution": false,
     "task": false
    },
    "scrolled": true
   },
   "outputs": [],
   "source": [
    "# Hidden Tests: True, Expected Number of Hints: 2, Expected Result: fail\n",
    "assert \"True\".isalpha(), \"Sample hint message 7\"\n",
    "### BEGIN HIDDEN TESTS\n",
    "assert False, \"Sample hint message 8\"\n",
    "### END HIDDEN TESTS"
   ]
  },
  {
   "cell_type": "code",
   "execution_count": null,
   "metadata": {
    "nbgrader": {
     "grade": true,
     "grade_id": "hidden-pass-shown-fail",
     "locked": true,
     "points": 2,
     "schema_version": 3,
     "solution": false,
     "task": false
    }
   },
   "outputs": [],
   "source": [
    "# Hidden Tests: True, Expected Number of Hints: 1, Expected Result: fail\n",
    "### BEGIN HIDDEN TESTS\n",
    "assert True, \"Sample hint message 9\"\n",
    "### END HIDDEN TESTS\n",
    "assert False"
   ]
  },
  {
   "cell_type": "code",
   "execution_count": null,
   "metadata": {
    "nbgrader": {
     "grade": true,
     "grade_id": "hidden-fail-shown-pass",
     "locked": true,
     "points": 2,
     "schema_version": 3,
     "solution": false,
     "task": false
    }
   },
   "outputs": [],
   "source": [
    "# Hidden Tests: True, Expected Number of Hints: 1, Expected Result: fail\n",
    "### BEGIN HIDDEN TESTS\n",
    "assert False, \"Sample hint message 11\"\n",
    "### END HIDDEN TESTS\n",
    "assert True"
   ]
  },
  {
   "cell_type": "code",
   "execution_count": null,
   "metadata": {
    "nbgrader": {
     "grade": true,
     "grade_id": "shown-fail-hidden-fail",
     "locked": true,
     "points": 2,
     "schema_version": 3,
     "solution": false,
     "task": false
    }
   },
   "outputs": [],
   "source": [
    "# Hidden Tests: True, Expected Number of Hints: 2, Expected Result: fail\n",
    "assert False, \"Sample hint message 13\"\n",
    "### BEGIN HIDDEN TESTS\n",
    "assert False, \"Sample hint message 14\"\n",
    "### END HIDDEN TESTS"
   ]
  },
  {
   "cell_type": "code",
   "execution_count": null,
   "metadata": {},
   "outputs": [],
   "source": [
    "!cat *.ipynb"
   ]
  }
 ],
 "metadata": {
  "celltoolbar": "Create Assignment",
  "kernelspec": {
   "display_name": "Python 3",
   "language": "python",
   "name": "python3"
  },
  "language_info": {
   "codemirror_mode": {
    "name": "ipython",
    "version": 3
   },
   "file_extension": ".py",
   "mimetype": "text/x-python",
   "name": "python",
   "nbconvert_exporter": "python",
   "pygments_lexer": "ipython3",
   "version": "3.7.6"
  }
 },
 "nbformat": 4,
 "nbformat_minor": 4
}
