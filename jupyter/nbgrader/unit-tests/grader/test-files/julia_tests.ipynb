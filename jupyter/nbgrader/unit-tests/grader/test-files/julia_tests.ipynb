{
 "cells": [
  {
   "cell_type": "code",
   "execution_count": null,
   "id": "88d16032-ff25-4408-bba2-b03a44863135",
   "metadata": {
    "deletable": false,
    "editable": false,
    "nbgrader": {
     "cell_type": "code",
     "checksum": "239a96a5b7ebc55a25fa6d2021c80494",
     "grade": false,
     "grade_id": "cell-c78f2f8b196c72e2",
     "locked": true,
     "schema_version": 3,
     "solution": false,
     "task": false
    },
    "tags": []
   },
   "outputs": [],
   "source": [
    "using Test"
   ]
  },
  {
   "cell_type": "code",
   "execution_count": null,
   "id": "a4488dc2-decf-4d3f-aa64-ea2496feaf68",
   "metadata": {
    "deletable": false,
    "nbgrader": {
     "cell_type": "code",
     "checksum": "d06202ccdb9765652c6dc7e80c165995",
     "grade": false,
     "grade_id": "cell-712383944a4bc2cf",
     "locked": false,
     "schema_version": 3,
     "solution": true,
     "task": false
    },
    "tags": []
   },
   "outputs": [],
   "source": [
    "# Write a function sum that calculates the summation of the integer argument x, or returns 0 if x is not positive.\n",
    "function sum(x)\n",
    "    # your code here\n",
    "    error(\"Not Yet Implemented\")\n",
    "end"
   ]
  },
  {
   "cell_type": "code",
   "execution_count": null,
   "id": "4e4c5c99-dc04-4847-9c36-53b674890bad",
   "metadata": {
    "deletable": false,
    "editable": false,
    "nbgrader": {
     "cell_type": "code",
     "checksum": "3fca9f6f2887c26fbdb76435483b6d17",
     "grade": true,
     "grade_id": "cell-4bde5ec986cf5862",
     "locked": true,
     "points": 3,
     "schema_version": 3,
     "solution": false,
     "task": false
    },
    "tags": []
   },
   "outputs": [],
   "source": [
    "# Hidden Tests: False, Expected Number of Hints: 0, Expected Result: pass\n",
    "@testset \"Testing shown test passing\" begin\n",
    "    @test true\n",
    "end"
   ]
  },
  {
   "cell_type": "code",
   "execution_count": null,
   "id": "2b8254f5-84fe-4086-924e-a451e0c1a32a",
   "metadata": {
    "deletable": false,
    "editable": false,
    "nbgrader": {
     "cell_type": "code",
     "checksum": "1e38a04db30baeda33ce95924b07c03e",
     "grade": true,
     "grade_id": "cell-1745fb98b6640fe5",
     "locked": true,
     "points": 1,
     "schema_version": 3,
     "solution": false,
     "task": false
    },
    "tags": []
   },
   "outputs": [],
   "source": [
    "# Hidden Tests: False, Expected Number of Hints: 1, Expected Result: fail\n",
    "@testset \"Testing shown test failing\" begin\n",
    "    @test false\n",
    "end"
   ]
  },
  {
   "cell_type": "code",
   "execution_count": null,
   "id": "d1c4591b-0ba1-4ea0-b0c0-9365e1bfe6fe",
   "metadata": {
    "deletable": false,
    "editable": false,
    "nbgrader": {
     "cell_type": "code",
     "checksum": "6c4de61564253fe509055e1014b86c32",
     "grade": true,
     "grade_id": "cell-7eb4a10720eda228",
     "locked": true,
     "points": 1,
     "schema_version": 3,
     "solution": false,
     "task": false
    },
    "tags": []
   },
   "outputs": [],
   "source": [
    "# Hidden Tests: False, Expected Number of Hints: 1, Expected Result: fail\n",
    "@testset \"Testing shown test erroring out\" begin\n",
    "    @test sqrt(-1)\n",
    "    @test \"Hello\" == \"Bye\"\n",
    "end"
   ]
  },
  {
   "cell_type": "code",
   "execution_count": null,
   "id": "1a153bbc-a471-4372-8b87-37c33b934d89",
   "metadata": {
    "deletable": false,
    "editable": false,
    "nbgrader": {
     "cell_type": "code",
     "checksum": "31c3ec33992b4fc93b8e2199504991c8",
     "grade": true,
     "grade_id": "cell-c5400b0523159b43",
     "locked": true,
     "points": 3,
     "schema_version": 3,
     "solution": false,
     "task": false
    },
    "tags": []
   },
   "outputs": [],
   "source": [
    "# Hidden Tests: True, Expected Number of Hints: 0, Expected Result: pass"
   ]
  },
  {
   "cell_type": "code",
   "execution_count": null,
   "id": "77745ec4-c54c-4c7a-b601-7c530014c6d6",
   "metadata": {
    "deletable": false,
    "editable": false,
    "nbgrader": {
     "cell_type": "code",
     "checksum": "fcb90a8d806a6ef211ce27977ad65046",
     "grade": true,
     "grade_id": "cell-343cf25ccec1fb33",
     "locked": true,
     "points": 1,
     "schema_version": 3,
     "solution": false,
     "task": false
    },
    "tags": []
   },
   "outputs": [],
   "source": [
    "# Hidden Tests: False, Expected Number of Hints: 1, Expected Result: fail"
   ]
  },
  {
   "cell_type": "code",
   "execution_count": null,
   "id": "69efdaa7-0d7e-4e48-b32b-26dfe8dbad26",
   "metadata": {
    "deletable": false,
    "editable": false,
    "nbgrader": {
     "cell_type": "code",
     "checksum": "39118c05ccb2af4b8d96de1fa4bff8d3",
     "grade": true,
     "grade_id": "cell-cf0eb3cc9a001d57",
     "locked": true,
     "points": 1,
     "schema_version": 3,
     "solution": false,
     "task": false
    },
    "tags": []
   },
   "outputs": [],
   "source": [
    "# Hidden Tests: True, Expected Number of Hints: 1, Expected Result: fail"
   ]
  },
  {
   "cell_type": "code",
   "execution_count": null,
   "id": "977d0995-28ea-4485-95f3-e65a6e251252",
   "metadata": {
    "deletable": false,
    "editable": false,
    "nbgrader": {
     "cell_type": "code",
     "checksum": "a67f767d69394506f2d37227405255c2",
     "grade": true,
     "grade_id": "cell-ccd96d9838c8b6a9",
     "locked": true,
     "points": 1,
     "schema_version": 3,
     "solution": false,
     "task": false
    },
    "tags": []
   },
   "outputs": [],
   "source": [
    "# Hidden Tests: False, Expected Number of Hints: 2, Expected Result: fail\n",
    "@testset \"shown test failing\" begin\n",
    "    @test false\n",
    "end"
   ]
  },
  {
   "cell_type": "code",
   "execution_count": null,
   "id": "3af9827c-ee6f-46b7-8d1f-13e7d170a45f",
   "metadata": {
    "deletable": false,
    "editable": false,
    "nbgrader": {
     "cell_type": "code",
     "checksum": "76cf4a31d17d61fd807f47aedaac5e50",
     "grade": true,
     "grade_id": "cell-f3c647b164e358ab",
     "locked": true,
     "points": 1,
     "schema_version": 3,
     "solution": false,
     "task": false
    },
    "tags": []
   },
   "outputs": [],
   "source": [
    "# Hidden Tests: False, Expected Number of Hints: 1, Expected Result: fail\n",
    "@testset \"Testing shown test passing, hidden test failing\" begin\n",
    "    @test true\n",
    "end"
   ]
  },
  {
   "cell_type": "code",
   "execution_count": null,
   "id": "8e7188ea-2881-4c43-a9e3-ae4ae783dcec",
   "metadata": {
    "deletable": false,
    "editable": false,
    "nbgrader": {
     "cell_type": "code",
     "checksum": "f7c74983ed6eca77624215c9161f7bf1",
     "grade": true,
     "grade_id": "cell-fae5700ffcda5d2c",
     "locked": true,
     "points": 1,
     "schema_version": 3,
     "solution": false,
     "task": false
    },
    "tags": []
   },
   "outputs": [],
   "source": [
    "# Hidden Tests: False, Expected Number of Hints: 1, Expected Result: fail\n",
    "@testset \"Testing hidden test passing, shown test failing\" begin\n",
    "    @test false\n",
    "end"
   ]
  }
 ],
 "metadata": {
  "kernelspec": {
   "display_name": "Julia 1.9.3",
   "language": "julia",
   "name": "julia-1.9"
  },
  "language_info": {
   "file_extension": ".jl",
   "mimetype": "application/julia",
   "name": "julia",
   "version": "1.9.3"
  }
 },
 "nbformat": 4,
 "nbformat_minor": 5
}
